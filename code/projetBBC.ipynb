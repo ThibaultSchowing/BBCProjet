{
 "cells": [
  {
   "cell_type": "markdown",
   "metadata": {},
   "source": [
    "# BBC - Projet\n",
    "## Diagnostic miARN pour détecter le cancer de la prostate\n",
    "\n",
    "- Professeur: Carlos Peña (<a href=\"mailto:carlos.pena@heig-vd.ch\">carlos.pena@heig-vd.ch</a>)\n",
    "- Assistante: Aitana Lebrand (<a href=\"mailto:aitana.nevesdasilva@heig-vd.ch\">aitana.nevesdasilva@heig-vd.ch</a>)\n",
    "- Etudiant: Jan Purro (<a href=\"mailto:jan.purro@heig-vd.ch\">jan.purro@heig-vd.ch</a>)\n",
    "- Etudiant: Thibault Schowing (<a href=\"mailto:thibault.schowing@heig-vd.ch\">thibault.schowing@heig-vd.ch</a>)\n",
    "\n",
    "Date: Printemps 2016"
   ]
  },
  {
   "cell_type": "markdown",
   "metadata": {},
   "source": [
    "> ## Objectifs pédagogiques\n",
    "\n",
    "\n",
    "> ## But du projet\n",
    "\n",
    "\n",
    "\n",
    "> ## Démarche\n",
    "\n",
    "\n",
    "> ## Rapport de labo\n",
    "\n"
   ]
  },
  {
   "cell_type": "code",
   "execution_count": 4,
   "metadata": {
    "collapsed": false
   },
   "outputs": [
    {
     "name": "stdout",
     "output_type": "stream",
     "text": [
      "[['\"ID_REF\"' 'PCa' 'PCa' ..., 'PCa' 'PCa' 'PCa']\n",
      " ['\"1367452_st\"' '10.93488' '13.60777' ..., '16.10932' '14.50111'\n",
      "  '15.29177\\n']\n",
      " ['\"1367453_st\"' '14.42092' '15.43682' ..., '15.15539' '17.9957'\n",
      "  '25.17342\\n']\n",
      " ..., \n",
      " ['\"zma-miR529_st\"' '15.90142' '20.75771' ..., '12.53141' '13.16191'\n",
      "  '13.03476\\n']\n",
      " ['\"zma-miR827-star_st\"' '14.19222' '17.82426' ..., '14.37837' '16.76542'\n",
      "  '16.02319\\n']\n",
      " ['\"zma-miR827_st\"' '15.00203' '13.44333' ..., '14.51185' '11.54497'\n",
      "  '13.00997\\n']]\n"
     ]
    }
   ],
   "source": [
    "import os\n",
    "import numpy as np\n",
    "import pylab as plt\n",
    "import pandas as pd\n",
    "import numpy as np\n",
    "from Bio import Geo\n",
    "\n",
    "# Fonctionne pour les fichiers .soft\n",
    "def load_geo(myfile):\n",
    "    handle = open(myfile)\n",
    "    records = Geo.parse(handle)\n",
    "    return records\n",
    "\n",
    "# Les différents records, le soft n'es pas forcément utile.\n",
    "\n",
    "#records_soft = load_geo('../data/GSE45604_family.soft')\n",
    "records_matrix = open('../data/GSE45604_series_matrix.txt')\n",
    "\n",
    "# Données brutes (uniquement les lignes avec condition et miARN)\n",
    "matrice =  [l.split('\\t') for l in records_matrix.readlines()[67:-1]]\n",
    "records_matrix.seek(0)\n",
    "conditions = records_matrix.readlines()[34].split('\\t')\n",
    "\n",
    "\n",
    "# matrice <list> -> <ndarray>\n",
    "matrice = np.array(matrice)\n",
    "conditions = np.array(conditions[1:])\n",
    "\n",
    "# On a 2 types de cellules: prostate normale ou cancéreuse qu'on va marquer PCa ou Normal\n",
    "i = 1\n",
    "for c in conditions:\n",
    "    if c.startswith('\"PCa'):\n",
    "        matrice[0,i] = 'PCa'\n",
    "    else:\n",
    "        matrice[0,i] = 'Normal'\n",
    "    i += 1\n",
    "\n",
    "# TODO: mettre dans l'ordre Normale puis PCa\n",
    "\n",
    "# AVANT TRANSPOSITION\n",
    "# Matrice[0] contient ID_REF - PCa - PCa - ... - Normal - PCa - ...\n",
    "# Matrice[1] contient 234342_st - 23.3 - 342.3 - ...\n",
    "# Matrice[:,0] contient ID_REF suivi de tous les id de gènes\n",
    "# Matrice[:,1...n] Contient PCa ou normal suivi de toutes les mesures pour ce prélèvement sur un patient atteint ou non\n",
    "print matrice"
   ]
  },
  {
   "cell_type": "code",
   "execution_count": null,
   "metadata": {
    "collapsed": true
   },
   "outputs": [],
   "source": [
    "\n"
   ]
  },
  {
   "cell_type": "code",
   "execution_count": null,
   "metadata": {
    "collapsed": false
   },
   "outputs": [],
   "source": []
  },
  {
   "cell_type": "code",
   "execution_count": null,
   "metadata": {
    "collapsed": true
   },
   "outputs": [],
   "source": []
  },
  {
   "cell_type": "code",
   "execution_count": 2,
   "metadata": {
    "collapsed": false
   },
   "outputs": [
    {
     "name": "stdout",
     "output_type": "stream",
     "text": [
      "['\"ID_REF\"' 'PCa' 'PCa' 'PCa' 'PCa' 'PCa' 'PCa' 'PCa' 'PCa' 'PCa' 'PCa'\n",
      " 'PCa' 'PCa' 'PCa' 'PCa' 'PCa' 'PCa' 'PCa' 'PCa' 'PCa' 'PCa' 'PCa' 'PCa'\n",
      " 'PCa' 'PCa' 'PCa' 'PCa' 'PCa' 'PCa' 'PCa' 'Normal' 'Normal' 'Normal'\n",
      " 'Normal' 'Normal' 'Normal' 'Normal' 'Normal' 'Normal' 'Normal' 'PCa' 'PCa'\n",
      " 'PCa' 'PCa' 'PCa' 'PCa' 'PCa' 'PCa' 'PCa' 'PCa' 'PCa' 'PCa' 'PCa' 'PCa'\n",
      " 'PCa' 'PCa' 'PCa' 'PCa' 'PCa' 'PCa' 'PCa']\n",
      "('IDX test: ', [5, 9, 19, 28, 32, 60])\n",
      "('IDX train: ', [0, 1, 2, 3, 4, 6, 7, 8, 10, 11, 12, 13, 14, 15, 16, 17, 18, 20, 21, 22, 23, 24, 25, 26, 27, 29, 30, 31, 33, 34, 35, 36, 37, 38, 39, 40, 41, 42, 43, 44, 45, 46, 47, 48, 49, 50, 51, 52, 53, 54, 55, 56, 57, 58, 59])\n",
      "('Matrice Test', array([['PCa', 'PCa', 'PCa', 'PCa', 'Normal', 'PCa'],\n",
      "       ['13.10776', '14.12206', '14.81388', '8.428252', '15.66553',\n",
      "        '15.29177\\n'],\n",
      "       ['19.99769', '16.31204', '16.3473', '21.90498', '16.43776',\n",
      "        '25.17342\\n'],\n",
      "       ..., \n",
      "       ['14.7962', '14.67161', '17.86323', '15.44292', '13.41379',\n",
      "        '13.03476\\n'],\n",
      "       ['9.721593', '12.45709', '17.15422', '12.62537', '16.40466',\n",
      "        '16.02319\\n'],\n",
      "       ['16.17793', '15.07593', '12.49885', '14.04453', '14.81159',\n",
      "        '13.00997\\n']], \n",
      "      dtype='|S26'))\n"
     ]
    }
   ],
   "source": [
    "# Diviser le dataset en deux -> test et train\n",
    "\n",
    "\n",
    "print matrice[0,:]\n",
    "\n",
    "#print(np.shape(matrice)) # (20644,61)\n",
    "\n",
    "idx_test = [5,9,19,28,32,60]\n",
    "idx_train = range(0,len(matrice[0]))\n",
    "[idx_train.remove(i) for i in idx_test]\n",
    "\n",
    "print(\"IDX test: \", idx_test)\n",
    "print(\"IDX train: \", idx_train)\n",
    "\n",
    "data = matrice\n",
    "data_test = data[:,idx_test]\n",
    "data = data[:,idx_train]\n",
    "\n",
    "print(\"Matrice Test\", matrice[:, idx_test])\n"
   ]
  },
  {
   "cell_type": "code",
   "execution_count": 3,
   "metadata": {
    "collapsed": false
   },
   "outputs": [
    {
     "name": "stdout",
     "output_type": "stream",
     "text": [
      "[['\"ID_REF\"' 'PCa' 'PCa' ..., 'PCa' 'PCa' 'PCa']\n",
      " ['\"1367452_st\"' '10.93488' '13.60777' ..., '17.9872' '16.10932' '14.50111']\n",
      " ['\"1367453_st\"' '14.42092' '15.43682' ..., '19.47316' '15.15539' '17.9957']\n",
      " ..., \n",
      " ['\"zma-miR529_st\"' '15.90142' '20.75771' ..., '13.46852' '12.53141'\n",
      "  '13.16191']\n",
      " ['\"zma-miR827-star_st\"' '14.19222' '17.82426' ..., '15.38391' '14.37837'\n",
      "  '16.76542']\n",
      " ['\"zma-miR827_st\"' '15.00203' '13.44333' ..., '10.7645' '14.51185'\n",
      "  '11.54497']]\n"
     ]
    }
   ],
   "source": [
    "# On va mettre les datas dans l'ordre\n",
    "\n",
    "#print(list(matrice[0,1:]))\n",
    "print(data)\n",
    "\n",
    "\n"
   ]
  }
 ],
 "metadata": {
  "kernelspec": {
   "display_name": "Python 2",
   "language": "python",
   "name": "python2"
  },
  "language_info": {
   "codemirror_mode": {
    "name": "ipython",
    "version": 2
   },
   "file_extension": ".py",
   "mimetype": "text/x-python",
   "name": "python",
   "nbconvert_exporter": "python",
   "pygments_lexer": "ipython2",
   "version": "2.7.11"
  }
 },
 "nbformat": 4,
 "nbformat_minor": 0
}
