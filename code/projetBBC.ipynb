{
 "cells": [
  {
   "cell_type": "markdown",
   "metadata": {},
   "source": [
    "# BBC - Projet\n",
    "## Diagnostic miARN pour détecter le cancer de la prostate\n",
    "\n",
    "- Professeur: Carlos Peña (<a href=\"mailto:carlos.pena@heig-vd.ch\">carlos.pena@heig-vd.ch</a>)\n",
    "- Assistante: Aitana Lebrand (<a href=\"mailto:aitana.nevesdasilva@heig-vd.ch\">aitana.nevesdasilva@heig-vd.ch</a>)\n",
    "- Etudiant: Jan Purro (<a href=\"mailto:jan.purro@heig-vd.ch\">jan.purro@heig-vd.ch</a>)\n",
    "- Etudiant: Thibault Schowing (<a href=\"mailto:thibault.schowing@heig-vd.ch\">thibault.schowing@heig-vd.ch</a>)\n",
    "\n",
    "Date: Printemps 2016"
   ]
  },
  {
   "cell_type": "markdown",
   "metadata": {},
   "source": [
    "> ## Objectifs pédagogiques\n",
    "\n",
    "\n",
    "> ## But du projet\n",
    "\n",
    "\n",
    "\n",
    "> ## Démarche\n",
    "\n",
    "\n",
    "> ## Rapport de labo\n",
    "\n"
   ]
  },
  {
   "cell_type": "code",
   "execution_count": 1,
   "metadata": {
    "collapsed": false
   },
   "outputs": [
    {
     "name": "stdout",
     "output_type": "stream",
     "text": [
      "<type 'list'>\n"
     ]
    }
   ],
   "source": [
    "import os\n",
    "import numpy as np\n",
    "import pylab as plt\n",
    "import pandas as pd\n",
    "import numpy as np\n",
    "from Bio import Geo\n",
    "\n",
    "def load_geo(myfile):\n",
    "    handle = open(myfile)\n",
    "    records = Geo.parse(handle)\n",
    "    return records\n",
    "\n",
    "# Les différents records, le soft n'es pas forcément utile.\n",
    "#records_soft = load_geo('../data/GSE45604_family.soft')\n",
    "records_matrix = open('../data/GSE45604_series_matrix.txt')\n",
    "\n",
    "# Données brutes (uniquement les lignes avec condition et miARN)\n",
    "matrice =  [l.split('\\t') for l in records_matrix.readlines()[67:-1]]\n",
    "records_matrix.seek(0)\n",
    "conditions = records_matrix.readlines()[34].split('\\t')\n",
    "\n",
    "print(type(matrice))\n",
    "\n",
    "\n",
    "matrice = np.array(matrice)\n",
    "conditions = np.array(conditions[1:])\n",
    "\n",
    "# On a 2 types de cellules: prostate normale ou cancéreuse qu'on va marquer PCa ou Normal\n",
    "i = 1\n",
    "for c in conditions:\n",
    "    if c.startswith('\"PCa'):\n",
    "        matrice[0,i] = 'PCa'\n",
    "    else:\n",
    "        matrice[0,i] = 'Normal'\n",
    "    i += 1\n",
    "\n",
    "# TODO: mettre dans l'ordre PCa puis Normale\n",
    "\n",
    "# AVANT TRANSPOSITION\n",
    "# Matrice[0] contient ID_REF - PCa - PCa - ... - Normal - PCa - ...\n",
    "# Matrice[1] contient 234342_st - 23.3 - 342.3 - ...\n",
    "# Matrice[:,0] contient ID_REF suivi de tous les id de gènes\n",
    "# Matrice[:,1...n] Contient PCa ou normal suivi de toutes les mesures pour ce prélèvement sur un patient atteint ou non\n",
    "\n",
    "cell_type = ['Normal','PCa']\n",
    "\n",
    "\n",
    "matrice = matrice.transpose()\n",
    "#print(matrice[1:,0])\n",
    "\n",
    "\n",
    "# Matrice[0] Contient maintenant: ID_REF - 1234_st - 3456_st - ... \n",
    "# Matrice[1] Contient maintenant: Normal - 123.2   -  23.2   - ...\n",
    "# Matrice[1:,0] Contient les types de cellules (PCa ou Normal) dans l'ordre après le sort\n",
    "# \n",
    "matrice.sort(axis=0)\n",
    "\n",
    "# Les gènes prélèvement sont triés Normal - PCa\n",
    "#print(matrice[1:,0])"
   ]
  },
  {
   "cell_type": "code",
   "execution_count": null,
   "metadata": {
    "collapsed": true
   },
   "outputs": [],
   "source": [
    "# On retranspose la matrice \n",
    "\n",
    "matrice = matrice.transpose()\n"
   ]
  },
  {
   "cell_type": "code",
   "execution_count": 2,
   "metadata": {
    "collapsed": false
   },
   "outputs": [
    {
     "name": "stdout",
     "output_type": "stream",
     "text": [
      "['\"ID_REF\"' 'Normal' 'Normal' 'Normal' 'Normal' 'Normal' 'Normal' 'Normal'\n",
      " 'Normal' 'Normal' 'Normal' 'PCa' 'PCa' 'PCa' 'PCa' 'PCa' 'PCa' 'PCa' 'PCa'\n",
      " 'PCa' 'PCa' 'PCa' 'PCa' 'PCa' 'PCa' 'PCa' 'PCa' 'PCa' 'PCa' 'PCa' 'PCa'\n",
      " 'PCa' 'PCa' 'PCa' 'PCa' 'PCa' 'PCa' 'PCa' 'PCa' 'PCa' 'PCa' 'PCa' 'PCa'\n",
      " 'PCa' 'PCa' 'PCa' 'PCa' 'PCa' 'PCa' 'PCa' 'PCa' 'PCa' 'PCa' 'PCa' 'PCa'\n",
      " 'PCa' 'PCa' 'PCa' 'PCa' 'PCa' 'PCa']\n",
      "(20644, 61)\n",
      "('IDX test: ', [5, 11, 19, 28, 32, 60])\n",
      "('IDX train: ', [0, 1, 2, 3, 4, 6, 7, 8, 9, 10, 12, 13, 14, 15, 16, 17, 18, 20, 21, 22, 23, 24, 25, 26, 27, 29, 30, 31, 33, 34, 35, 36, 37, 38, 39, 40, 41, 42, 43, 44, 45, 46, 47, 48, 49, 50, 51, 52, 53, 54, 55, 56, 57, 58, 59])\n",
      "[['\"ID_REF\"' 'Normal' 'Normal' ..., 'PCa' 'PCa' 'PCa']\n",
      " ['\"1367452_st\"' '10.5609' '10.93488' ..., '20.23703' '8.428252' '9.889372']\n",
      " ['\"1367453_st\"' '12.8113' '12.84643' ..., '21.90498' '22.80263'\n",
      "  '25.17342\\n']\n",
      " ..., \n",
      " ['\"zma-miR529_st\"' '11.23052' '11.74796' ..., '20.07965' '20.20208'\n",
      "  '20.75771']\n",
      " ['\"zma-miR827-star_st\"' '10.35207' '10.80914' ..., '8.361436' '9.721593'\n",
      "  '9.77377']\n",
      " ['\"zma-miR827_st\"' '10.63883' '10.7645' ..., '17.98331' '18.90308'\n",
      "  '19.78054']]\n"
     ]
    }
   ],
   "source": [
    "# Diviser le dataset en deux -> test et train\n",
    "\n",
    "\n",
    "print matrice[0,:]\n",
    "print(np.shape(matrice))\n",
    "\n",
    "idx_test = [5,11,19,28,32,60]\n",
    "idx_train = range(0,len(matrice[0]))\n",
    "[idx_train.remove(i) for i in idx_test]\n",
    "\n",
    "print(\"IDX test: \", idx_test)\n",
    "print(\"IDX train: \", idx_train)\n",
    "\n",
    "data = matrice\n",
    "data_test = data[:,idx_test]\n",
    "data = data[:,idx_train]\n",
    "\n",
    "print(matrice)\n"
   ]
  },
  {
   "cell_type": "code",
   "execution_count": 3,
   "metadata": {
    "collapsed": false
   },
   "outputs": [
    {
     "ename": "SyntaxError",
     "evalue": "invalid syntax (<ipython-input-3-693aff47c674>, line 6)",
     "output_type": "error",
     "traceback": [
      "\u001b[1;36m  File \u001b[1;32m\"<ipython-input-3-693aff47c674>\"\u001b[1;36m, line \u001b[1;32m6\u001b[0m\n\u001b[1;33m    cell_type =\u001b[0m\n\u001b[1;37m                ^\u001b[0m\n\u001b[1;31mSyntaxError\u001b[0m\u001b[1;31m:\u001b[0m invalid syntax\n"
     ]
    }
   ],
   "source": [
    "# On va mettre les datas dans l'ordre\n",
    "\n",
    "#print(list(matrice[0,1:]))\n",
    "print(data)\n",
    "\n",
    "cell_type = \n"
   ]
  }
 ],
 "metadata": {
  "kernelspec": {
   "display_name": "Python 2",
   "language": "python",
   "name": "python2"
  },
  "language_info": {
   "codemirror_mode": {
    "name": "ipython",
    "version": 2
   },
   "file_extension": ".py",
   "mimetype": "text/x-python",
   "name": "python",
   "nbconvert_exporter": "python",
   "pygments_lexer": "ipython2",
   "version": "2.7.11"
  }
 },
 "nbformat": 4,
 "nbformat_minor": 0
}
