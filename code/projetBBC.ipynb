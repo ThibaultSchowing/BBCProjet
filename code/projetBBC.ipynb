{
 "cells": [
  {
   "cell_type": "markdown",
   "metadata": {},
   "source": [
    "# BBC - Projet\n",
    "## Diagnostic miARN pour détecter le cancer de la prostate\n",
    "\n",
    "- Professeur: Carlos Peña (<a href=\"mailto:carlos.pena@heig-vd.ch\">carlos.pena@heig-vd.ch</a>)\n",
    "- Assistante: Aitana Lebrand (<a href=\"mailto:aitana.nevesdasilva@heig-vd.ch\">aitana.nevesdasilva@heig-vd.ch</a>)\n",
    "- Etudiant: Jan Purro (<a href=\"mailto:jan.purro@heig-vd.ch\">jan.purro@heig-vd.ch</a>)\n",
    "- Etudiant: Thibault Schowing (<a href=\"mailto:thibault.schowing@heig-vd.ch\">thibault.schowing@heig-vd.ch</a>)\n",
    "\n",
    "Date: Printemps 2016"
   ]
  },
  {
   "cell_type": "markdown",
   "metadata": {},
   "source": [
    "> ## Objectifs pédagogiques\n",
    "\n",
    "\n",
    "> ## But du projet\n",
    "\n",
    "\n",
    "\n",
    "> ## Démarche\n",
    "\n",
    "\n",
    "> ## Rapport de labo\n",
    "\n"
   ]
  },
  {
   "cell_type": "code",
   "execution_count": 12,
   "metadata": {
    "collapsed": false
   },
   "outputs": [
    {
     "name": "stdout",
     "output_type": "stream",
     "text": [
      "idx: \n",
      "[0, 30, 31, 32, 33, 34, 35, 36, 37, 38, 39, 1, 2, 3, 4, 5, 6, 7, 8, 9, 10, 11, 12, 13, 14, 15, 16, 17, 18, 19, 20, 21, 22, 23, 24, 25, 26, 27, 28, 29, 40, 41, 42, 43, 44, 45, 46, 47, 48, 49, 50, 51, 52, 53, 54, 55, 56, 57, 58, 59, 60]\n",
      "[['\"ID_REF\"' 'PCa' 'PCa' ..., 'PCa' 'PCa' 'PCa']\n",
      " ['\"1367452_st\"' '10.93488' '13.60777' ..., '16.10932' '14.50111'\n",
      "  '15.29177\\n']\n",
      " ['\"1367453_st\"' '14.42092' '15.43682' ..., '15.15539' '17.9957'\n",
      "  '25.17342\\n']\n",
      " ..., \n",
      " ['\"zma-miR529_st\"' '15.90142' '20.75771' ..., '12.53141' '13.16191'\n",
      "  '13.03476\\n']\n",
      " ['\"zma-miR827-star_st\"' '14.19222' '17.82426' ..., '14.37837' '16.76542'\n",
      "  '16.02319\\n']\n",
      " ['\"zma-miR827_st\"' '15.00203' '13.44333' ..., '14.51185' '11.54497'\n",
      "  '13.00997\\n']]\n"
     ]
    }
   ],
   "source": [
    "import os\n",
    "import numpy as np\n",
    "import pylab as plt\n",
    "import pandas as pd\n",
    "import numpy as np\n",
    "from Bio import Geo\n",
    "\n",
    "# Fonctionne pour les fichiers .soft\n",
    "def load_geo(myfile):\n",
    "    handle = open(myfile)\n",
    "    records = Geo.parse(handle)\n",
    "    return records\n",
    "\n",
    "# Les différents records, le soft n'es pas forcément utile.\n",
    "\n",
    "#records_soft = load_geo('../data/GSE45604_family.soft')\n",
    "records_matrix = open('../data/GSE45604_series_matrix.txt')\n",
    "\n",
    "# Données brutes (uniquement les lignes avec condition et miARN)\n",
    "matrice =  [l.split('\\t') for l in records_matrix.readlines()[67:-1]]\n",
    "records_matrix.seek(0)\n",
    "conditions = records_matrix.readlines()[34].split('\\t')\n",
    "\n",
    "\n",
    "# matrice <list> -> <ndarray>\n",
    "matrice = np.array(matrice)\n",
    "conditions = np.array(conditions[1:])\n",
    "\n",
    "# On a 2 types de cellules: prostate normale ou cancéreuse qu'on va marquer PCa ou Normal\n",
    "idx_normal = []\n",
    "idx_pca = []\n",
    "i = 1\n",
    "for c in conditions:\n",
    "    if c.startswith('\"PCa'):\n",
    "        matrice[0,i] = 'PCa'\n",
    "        idx_pca.append(i)\n",
    "    else:\n",
    "        matrice[0,i] = 'Normal'\n",
    "        idx_normal.append(i)\n",
    "    i += 1\n",
    "\n",
    "# TODO: mettre dans l'ordre Normale puis PCa\n",
    "idx_ordered = [0] + idx_normal + idx_pca\n",
    "print(\"idx: \")\n",
    "print(idx_ordered)      \n",
    "\n",
    "# AVANT TRANSPOSITION\n",
    "# Matrice[0] contient ID_REF - PCa - PCa - ... - Normal - PCa - ...\n",
    "# Matrice[1] contient 234342_st - 23.3 - 342.3 - ...\n",
    "# Matrice[:,0] contient ID_REF suivi de tous les id de gènes\n",
    "# Matrice[:,1...n] Contient PCa ou normal suivi de toutes les mesures pour ce prélèvement sur un patient atteint ou non\n",
    "print matrice\n",
    "\n",
    "# On réordonne avec les Idx dans le bon ordre\n",
    "matrice = matrice[:,idx_ordered]"
   ]
  },
  {
   "cell_type": "code",
   "execution_count": null,
   "metadata": {
    "collapsed": true
   },
   "outputs": [],
   "source": [
    "\n"
   ]
  },
  {
   "cell_type": "code",
   "execution_count": null,
   "metadata": {
    "collapsed": false
   },
   "outputs": [],
   "source": []
  },
  {
   "cell_type": "code",
   "execution_count": null,
   "metadata": {
    "collapsed": true
   },
   "outputs": [],
   "source": []
  },
  {
   "cell_type": "code",
   "execution_count": 15,
   "metadata": {
    "collapsed": false
   },
   "outputs": [
    {
     "name": "stdout",
     "output_type": "stream",
     "text": [
      "['\"ID_REF\"' 'Normal' 'Normal' 'Normal' 'Normal' 'Normal' 'Normal' 'Normal'\n",
      " 'Normal' 'Normal' 'Normal' 'PCa' 'PCa' 'PCa' 'PCa' 'PCa' 'PCa' 'PCa' 'PCa'\n",
      " 'PCa' 'PCa' 'PCa' 'PCa' 'PCa' 'PCa' 'PCa' 'PCa' 'PCa' 'PCa' 'PCa' 'PCa'\n",
      " 'PCa' 'PCa' 'PCa' 'PCa' 'PCa' 'PCa' 'PCa' 'PCa' 'PCa' 'PCa' 'PCa' 'PCa'\n",
      " 'PCa' 'PCa' 'PCa' 'PCa' 'PCa' 'PCa' 'PCa' 'PCa' 'PCa' 'PCa' 'PCa' 'PCa'\n",
      " 'PCa' 'PCa' 'PCa' 'PCa' 'PCa' 'PCa']\n",
      "('IDX test: ', [5, 9, 19, 28, 32, 60])\n",
      "('IDX train: ', [1, 2, 3, 4, 6, 7, 8, 10, 11, 12, 13, 14, 15, 16, 17, 18, 20, 21, 22, 23, 24, 25, 26, 27, 29, 30, 31, 33, 34, 35, 36, 37, 38, 39, 40, 41, 42, 43, 44, 45, 46, 47, 48, 49, 50, 51, 52, 53, 54, 55, 56, 57, 58, 59])\n",
      "('Matrice Test', array([['Normal', 'Normal', 'PCa', 'PCa', 'PCa', 'PCa'],\n",
      "       ['11.47406', '13.86868', '14.12206', '14.15627', '11.64925',\n",
      "        '15.29177\\n'],\n",
      "       ['14.39909', '16.66849', '16.31204', '20.05932', '15.40274',\n",
      "        '25.17342\\n'],\n",
      "       ..., \n",
      "       ['15.43849', '17.41694', '14.67161', '16.80459', '14.28834',\n",
      "        '13.03476\\n'],\n",
      "       ['13.1045', '13.57387', '12.45709', '17.9753', '8.361436',\n",
      "        '16.02319\\n'],\n",
      "       ['16.66401', '14.32412', '15.07593', '18.90308', '13.18935',\n",
      "        '13.00997\\n']], \n",
      "      dtype='|S26'))\n"
     ]
    }
   ],
   "source": [
    "# Diviser le dataset en deux -> test et train\n",
    "\n",
    "\n",
    "print matrice[0,:]\n",
    "\n",
    "#print(np.shape(matrice)) # (20644,61)\n",
    "\n",
    "idx_test = [5,9,19,28,32,60]\n",
    "idx_train = range(0,len(matrice[0]))\n",
    "[idx_train.remove(i) for i in idx_test]\n",
    "idx_train.remove(0)\n",
    "\n",
    "print(\"IDX test: \", idx_test)\n",
    "print(\"IDX train: \", idx_train)\n",
    "\n",
    "data = matrice\n",
    "data_test = data[:,idx_test]\n",
    "data = data[:,idx_train]\n",
    "\n",
    "print(\"Matrice Test\", matrice[:, idx_test])\n"
   ]
  },
  {
   "cell_type": "code",
   "execution_count": 16,
   "metadata": {
    "collapsed": false
   },
   "outputs": [
    {
     "name": "stdout",
     "output_type": "stream",
     "text": [
      "[['Normal' 'Normal' 'Normal' ..., 'PCa' 'PCa' 'PCa']\n",
      " ['17.73092' '13.50618' '15.66553' ..., '17.9872' '16.10932' '14.50111']\n",
      " ['15.98614' '17.80959' '16.43776' ..., '19.47316' '15.15539' '17.9957']\n",
      " ..., \n",
      " ['18.99103' '13.52609' '13.41379' ..., '13.46852' '12.53141' '13.16191']\n",
      " ['15.40228' '14.92211' '16.40466' ..., '15.38391' '14.37837' '16.76542']\n",
      " ['17.98331' '17.41605' '14.81159' ..., '10.7645' '14.51185' '11.54497']]\n"
     ]
    }
   ],
   "source": [
    "# On va mettre les datas dans l'ordre\n",
    "\n",
    "#print(list(matrice[0,1:]))\n",
    "print(data)\n",
    "\n",
    "\n"
   ]
  }
 ],
 "metadata": {
  "kernelspec": {
   "display_name": "Python 2",
   "language": "python",
   "name": "python2"
  },
  "language_info": {
   "codemirror_mode": {
    "name": "ipython",
    "version": 2
   },
   "file_extension": ".py",
   "mimetype": "text/x-python",
   "name": "python",
   "nbconvert_exporter": "python",
   "pygments_lexer": "ipython2",
   "version": "2.7.11"
  }
 },
 "nbformat": 4,
 "nbformat_minor": 0
}
